{
 "cells": [
  {
   "cell_type": "markdown",
   "metadata": {},
   "source": [
    "# Setting up the environment\n",
    "## Install requirements"
   ]
  },
  {
   "cell_type": "code",
   "execution_count": 1,
   "metadata": {},
   "outputs": [
    {
     "name": "stdout",
     "output_type": "stream",
     "text": [
      "--2020-05-02 15:37:15--  https://raw.githubusercontent.com/crow-intelligence/growth-hacking-sentiment/master/requirements.txt\n",
      "Resolving raw.githubusercontent.com (raw.githubusercontent.com)... 151.101.112.133\n",
      "Connecting to raw.githubusercontent.com (raw.githubusercontent.com)|151.101.112.133|:443... connected.\n",
      "HTTP request sent, awaiting response... 200 OK\n",
      "Length: 159 [text/plain]\n",
      "Saving to: ‘requirements.txt.1’\n",
      "\n",
      "requirements.txt.1  100%[===================>]     159  --.-KB/s    in 0s      \n",
      "\n",
      "2020-05-02 15:37:15 (3,80 MB/s) - ‘requirements.txt.1’ saved [159/159]\n",
      "\n",
      "Requirement already satisfied: wheel in /home/zoli/.virtualenvs/growth_hacking_sentiment/lib/python3.6/site-packages (from -r requirements.txt (line 1)) (0.34.2)\n",
      "Requirement already satisfied: altair in /home/zoli/.virtualenvs/growth_hacking_sentiment/lib/python3.6/site-packages (from -r requirements.txt (line 2)) (4.1.0)\n",
      "Requirement already satisfied: imbalanced-learn in /home/zoli/.virtualenvs/growth_hacking_sentiment/lib/python3.6/site-packages (from -r requirements.txt (line 3)) (0.6.2)\n",
      "Requirement already satisfied: imblearn in /home/zoli/.virtualenvs/growth_hacking_sentiment/lib/python3.6/site-packages (from -r requirements.txt (line 4)) (0.0)\n",
      "Requirement already satisfied: Keyness in /home/zoli/.virtualenvs/growth_hacking_sentiment/lib/python3.6/site-packages (from -r requirements.txt (line 5)) (0.25)\n",
      "Requirement already satisfied: nltk in /home/zoli/.virtualenvs/growth_hacking_sentiment/lib/python3.6/site-packages (from -r requirements.txt (line 6)) (3.5)\n",
      "Requirement already satisfied: numpy in /home/zoli/.virtualenvs/growth_hacking_sentiment/lib/python3.6/site-packages (from -r requirements.txt (line 7)) (1.18.3)\n",
      "Requirement already satisfied: pandas in /home/zoli/.virtualenvs/growth_hacking_sentiment/lib/python3.6/site-packages (from -r requirements.txt (line 8)) (1.0.3)\n",
      "Requirement already satisfied: Pillow in /home/zoli/.virtualenvs/growth_hacking_sentiment/lib/python3.6/site-packages (from -r requirements.txt (line 9)) (7.1.2)\n",
      "Requirement already satisfied: scikit-learn in /home/zoli/.virtualenvs/growth_hacking_sentiment/lib/python3.6/site-packages (from -r requirements.txt (line 10)) (0.22.2.post1)\n",
      "Requirement already satisfied: scipy in /home/zoli/.virtualenvs/growth_hacking_sentiment/lib/python3.6/site-packages (from -r requirements.txt (line 11)) (1.4.1)\n",
      "Requirement already satisfied: simpletransformers in /home/zoli/.virtualenvs/growth_hacking_sentiment/lib/python3.6/site-packages (from -r requirements.txt (line 12)) (0.26.0)\n",
      "Requirement already satisfied: tokenizers==0.5.2 in /home/zoli/.virtualenvs/growth_hacking_sentiment/lib/python3.6/site-packages (from -r requirements.txt (line 13)) (0.5.2)\n",
      "Requirement already satisfied: torch in /home/zoli/.virtualenvs/growth_hacking_sentiment/lib/python3.6/site-packages (from -r requirements.txt (line 14)) (1.5.0)\n",
      "Requirement already satisfied: torchvision in /home/zoli/.virtualenvs/growth_hacking_sentiment/lib/python3.6/site-packages (from -r requirements.txt (line 15)) (0.6.0)\n",
      "Requirement already satisfied: transformers in /home/zoli/.virtualenvs/growth_hacking_sentiment/lib/python3.6/site-packages (from -r requirements.txt (line 16)) (2.8.0)\n",
      "Requirement already satisfied: toolz in /home/zoli/.virtualenvs/growth_hacking_sentiment/lib/python3.6/site-packages (from altair->-r requirements.txt (line 2)) (0.10.0)\n",
      "Requirement already satisfied: entrypoints in /home/zoli/.virtualenvs/growth_hacking_sentiment/lib/python3.6/site-packages (from altair->-r requirements.txt (line 2)) (0.3)\n",
      "Requirement already satisfied: jsonschema in /home/zoli/.virtualenvs/growth_hacking_sentiment/lib/python3.6/site-packages (from altair->-r requirements.txt (line 2)) (3.2.0)\n",
      "Requirement already satisfied: jinja2 in /home/zoli/.virtualenvs/growth_hacking_sentiment/lib/python3.6/site-packages (from altair->-r requirements.txt (line 2)) (2.11.2)\n",
      "Requirement already satisfied: joblib>=0.11 in /home/zoli/.virtualenvs/growth_hacking_sentiment/lib/python3.6/site-packages (from imbalanced-learn->-r requirements.txt (line 3)) (0.14.1)\n",
      "Requirement already satisfied: click in /home/zoli/.virtualenvs/growth_hacking_sentiment/lib/python3.6/site-packages (from nltk->-r requirements.txt (line 6)) (7.1.2)\n",
      "Requirement already satisfied: regex in /home/zoli/.virtualenvs/growth_hacking_sentiment/lib/python3.6/site-packages (from nltk->-r requirements.txt (line 6)) (2020.4.4)\n",
      "Requirement already satisfied: tqdm in /home/zoli/.virtualenvs/growth_hacking_sentiment/lib/python3.6/site-packages (from nltk->-r requirements.txt (line 6)) (4.45.0)\n",
      "Requirement already satisfied: pytz>=2017.2 in /home/zoli/.virtualenvs/growth_hacking_sentiment/lib/python3.6/site-packages (from pandas->-r requirements.txt (line 8)) (2020.1)\n",
      "Requirement already satisfied: python-dateutil>=2.6.1 in /home/zoli/.virtualenvs/growth_hacking_sentiment/lib/python3.6/site-packages (from pandas->-r requirements.txt (line 8)) (2.8.1)\n",
      "Requirement already satisfied: requests in /home/zoli/.virtualenvs/growth_hacking_sentiment/lib/python3.6/site-packages (from simpletransformers->-r requirements.txt (line 12)) (2.23.0)\n",
      "Requirement already satisfied: seqeval in /home/zoli/.virtualenvs/growth_hacking_sentiment/lib/python3.6/site-packages (from simpletransformers->-r requirements.txt (line 12)) (0.0.12)\n",
      "Requirement already satisfied: tensorboardx in /home/zoli/.virtualenvs/growth_hacking_sentiment/lib/python3.6/site-packages (from simpletransformers->-r requirements.txt (line 12)) (2.0)\n",
      "Requirement already satisfied: future in /home/zoli/.virtualenvs/growth_hacking_sentiment/lib/python3.6/site-packages (from torch->-r requirements.txt (line 14)) (0.18.2)\n",
      "Requirement already satisfied: filelock in /home/zoli/.virtualenvs/growth_hacking_sentiment/lib/python3.6/site-packages (from transformers->-r requirements.txt (line 16)) (3.0.12)\n",
      "Requirement already satisfied: dataclasses; python_version < \"3.7\" in /home/zoli/.virtualenvs/growth_hacking_sentiment/lib/python3.6/site-packages (from transformers->-r requirements.txt (line 16)) (0.7)\n",
      "Requirement already satisfied: boto3 in /home/zoli/.virtualenvs/growth_hacking_sentiment/lib/python3.6/site-packages (from transformers->-r requirements.txt (line 16)) (1.13.1)\n",
      "Requirement already satisfied: sentencepiece in /home/zoli/.virtualenvs/growth_hacking_sentiment/lib/python3.6/site-packages (from transformers->-r requirements.txt (line 16)) (0.1.86)\n",
      "Requirement already satisfied: sacremoses in /home/zoli/.virtualenvs/growth_hacking_sentiment/lib/python3.6/site-packages (from transformers->-r requirements.txt (line 16)) (0.0.41)\n",
      "Requirement already satisfied: attrs>=17.4.0 in /home/zoli/.virtualenvs/growth_hacking_sentiment/lib/python3.6/site-packages (from jsonschema->altair->-r requirements.txt (line 2)) (19.3.0)\n",
      "Requirement already satisfied: importlib-metadata; python_version < \"3.8\" in /home/zoli/.virtualenvs/growth_hacking_sentiment/lib/python3.6/site-packages (from jsonschema->altair->-r requirements.txt (line 2)) (1.6.0)\n",
      "Requirement already satisfied: six>=1.11.0 in /home/zoli/.virtualenvs/growth_hacking_sentiment/lib/python3.6/site-packages (from jsonschema->altair->-r requirements.txt (line 2)) (1.14.0)\n",
      "Requirement already satisfied: setuptools in /home/zoli/.virtualenvs/growth_hacking_sentiment/lib/python3.6/site-packages (from jsonschema->altair->-r requirements.txt (line 2)) (46.1.3)\n",
      "Requirement already satisfied: pyrsistent>=0.14.0 in /home/zoli/.virtualenvs/growth_hacking_sentiment/lib/python3.6/site-packages (from jsonschema->altair->-r requirements.txt (line 2)) (0.16.0)\n",
      "Requirement already satisfied: MarkupSafe>=0.23 in /home/zoli/.virtualenvs/growth_hacking_sentiment/lib/python3.6/site-packages (from jinja2->altair->-r requirements.txt (line 2)) (1.1.1)\n",
      "Requirement already satisfied: idna<3,>=2.5 in /home/zoli/.virtualenvs/growth_hacking_sentiment/lib/python3.6/site-packages (from requests->simpletransformers->-r requirements.txt (line 12)) (2.9)\n",
      "Requirement already satisfied: chardet<4,>=3.0.2 in /home/zoli/.virtualenvs/growth_hacking_sentiment/lib/python3.6/site-packages (from requests->simpletransformers->-r requirements.txt (line 12)) (3.0.4)\n",
      "Requirement already satisfied: certifi>=2017.4.17 in /home/zoli/.virtualenvs/growth_hacking_sentiment/lib/python3.6/site-packages (from requests->simpletransformers->-r requirements.txt (line 12)) (2020.4.5.1)\n",
      "Requirement already satisfied: urllib3!=1.25.0,!=1.25.1,<1.26,>=1.21.1 in /home/zoli/.virtualenvs/growth_hacking_sentiment/lib/python3.6/site-packages (from requests->simpletransformers->-r requirements.txt (line 12)) (1.25.9)\n",
      "Requirement already satisfied: Keras>=2.2.4 in /home/zoli/.virtualenvs/growth_hacking_sentiment/lib/python3.6/site-packages (from seqeval->simpletransformers->-r requirements.txt (line 12)) (2.3.1)\n"
     ]
    },
    {
     "name": "stdout",
     "output_type": "stream",
     "text": [
      "Requirement already satisfied: protobuf>=3.8.0 in /home/zoli/.virtualenvs/growth_hacking_sentiment/lib/python3.6/site-packages (from tensorboardx->simpletransformers->-r requirements.txt (line 12)) (3.11.3)\n",
      "Requirement already satisfied: jmespath<1.0.0,>=0.7.1 in /home/zoli/.virtualenvs/growth_hacking_sentiment/lib/python3.6/site-packages (from boto3->transformers->-r requirements.txt (line 16)) (0.9.5)\n",
      "Requirement already satisfied: botocore<1.17.0,>=1.16.1 in /home/zoli/.virtualenvs/growth_hacking_sentiment/lib/python3.6/site-packages (from boto3->transformers->-r requirements.txt (line 16)) (1.16.1)\n",
      "Requirement already satisfied: s3transfer<0.4.0,>=0.3.0 in /home/zoli/.virtualenvs/growth_hacking_sentiment/lib/python3.6/site-packages (from boto3->transformers->-r requirements.txt (line 16)) (0.3.3)\n",
      "Requirement already satisfied: zipp>=0.5 in /home/zoli/.virtualenvs/growth_hacking_sentiment/lib/python3.6/site-packages (from importlib-metadata; python_version < \"3.8\"->jsonschema->altair->-r requirements.txt (line 2)) (3.1.0)\n",
      "Requirement already satisfied: pyyaml in /home/zoli/.virtualenvs/growth_hacking_sentiment/lib/python3.6/site-packages (from Keras>=2.2.4->seqeval->simpletransformers->-r requirements.txt (line 12)) (5.3.1)\n",
      "Requirement already satisfied: h5py in /home/zoli/.virtualenvs/growth_hacking_sentiment/lib/python3.6/site-packages (from Keras>=2.2.4->seqeval->simpletransformers->-r requirements.txt (line 12)) (2.10.0)\n",
      "Requirement already satisfied: keras-applications>=1.0.6 in /home/zoli/.virtualenvs/growth_hacking_sentiment/lib/python3.6/site-packages (from Keras>=2.2.4->seqeval->simpletransformers->-r requirements.txt (line 12)) (1.0.8)\n",
      "Requirement already satisfied: keras-preprocessing>=1.0.5 in /home/zoli/.virtualenvs/growth_hacking_sentiment/lib/python3.6/site-packages (from Keras>=2.2.4->seqeval->simpletransformers->-r requirements.txt (line 12)) (1.1.0)\n",
      "Requirement already satisfied: docutils<0.16,>=0.10 in /home/zoli/.virtualenvs/growth_hacking_sentiment/lib/python3.6/site-packages (from botocore<1.17.0,>=1.16.1->boto3->transformers->-r requirements.txt (line 16)) (0.15.2)\n"
     ]
    }
   ],
   "source": [
    "!wget https://raw.githubusercontent.com/crow-intelligence/growth-hacking-sentiment/master/requirements.txt\n",
    "!pip install -r requirements.txt"
   ]
  },
  {
   "cell_type": "markdown",
   "metadata": {},
   "source": [
    "## Install apex"
   ]
  },
  {
   "cell_type": "code",
   "execution_count": null,
   "metadata": {},
   "outputs": [],
   "source": [
    "%%writefile setup.sh\n",
    "\n",
    "export CUDA_HOME=/usr/local/cuda-10.1\n",
    "git clone https://github.com/NVIDIA/apex\n",
    "pip install -v --no-cache-dir --global-option=\"--cpp_ext\" --global-option=\"--cuda_ext\" ./apex\n"
   ]
  },
  {
   "cell_type": "code",
   "execution_count": null,
   "metadata": {},
   "outputs": [],
   "source": [
    "!sh setup.sh"
   ]
  },
  {
   "cell_type": "markdown",
   "metadata": {},
   "source": [
    "## Connect your Colab notebook to your Drive"
   ]
  },
  {
   "cell_type": "code",
   "execution_count": null,
   "metadata": {},
   "outputs": [],
   "source": [
    "from google.colab import drive\n",
    "drive.mount('/content/drive', force_remount=True)"
   ]
  }
 ],
 "metadata": {
  "kernelspec": {
   "display_name": "growth_hacking_sentiment",
   "language": "python",
   "name": "growth_hacking_sentiment"
  },
  "language_info": {
   "codemirror_mode": {
    "name": "ipython",
    "version": 3
   },
   "file_extension": ".py",
   "mimetype": "text/x-python",
   "name": "python",
   "nbconvert_exporter": "python",
   "pygments_lexer": "ipython3",
   "version": "3.6.9"
  }
 },
 "nbformat": 4,
 "nbformat_minor": 4
}
